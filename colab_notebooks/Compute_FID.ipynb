{
  "nbformat": 4,
  "nbformat_minor": 0,
  "metadata": {
    "colab": {
      "name": "Compute FID.ipynb",
      "provenance": [],
      "collapsed_sections": []
    },
    "kernelspec": {
      "name": "python3",
      "display_name": "Python 3"
    }
  },
  "cells": [
    {
      "cell_type": "code",
      "metadata": {
        "id": "ZeKnfw6Z0Bbj",
        "outputId": "b76c0359-7222-4b40-b620-99400052371a",
        "colab": {
          "base_uri": "https://localhost:8080/"
        }
      },
      "source": [
        "from google.colab import drive\n",
        "drive.mount('/content/drive')"
      ],
      "execution_count": null,
      "outputs": [
        {
          "output_type": "stream",
          "text": [
            "Mounted at /content/drive\n"
          ],
          "name": "stdout"
        }
      ]
    },
    {
      "cell_type": "code",
      "metadata": {
        "id": "3cLoMaW30por",
        "outputId": "dfd2fb7b-582d-44e9-bc10-2422ad8b56c1",
        "colab": {
          "base_uri": "https://localhost:8080/"
        }
      },
      "source": [
        "% cd \"/content/drive/My Drive/FID\""
      ],
      "execution_count": null,
      "outputs": [
        {
          "output_type": "stream",
          "text": [
            "/content/drive/My Drive/FID\n"
          ],
          "name": "stdout"
        }
      ]
    },
    {
      "cell_type": "code",
      "metadata": {
        "id": "LAxcDijezSdr",
        "outputId": "0628570d-778e-4385-f926-163d5a30e13c",
        "colab": {
          "base_uri": "https://localhost:8080/"
        }
      },
      "source": [
        "% pip install pytorch-fid"
      ],
      "execution_count": null,
      "outputs": [
        {
          "output_type": "stream",
          "text": [
            "Collecting pytorch-fid\n",
            "  Downloading https://files.pythonhosted.org/packages/46/71/d7611fa065e4bf3a06198524356a0ec8ce2d5c2ca4acd47f497fb4c81446/pytorch-fid-0.1.1.tar.gz\n",
            "Requirement already satisfied: numpy in /usr/local/lib/python3.6/dist-packages (from pytorch-fid) (1.18.5)\n",
            "Requirement already satisfied: pillow in /usr/local/lib/python3.6/dist-packages (from pytorch-fid) (7.0.0)\n",
            "Requirement already satisfied: scipy in /usr/local/lib/python3.6/dist-packages (from pytorch-fid) (1.4.1)\n",
            "Requirement already satisfied: torch in /usr/local/lib/python3.6/dist-packages (from pytorch-fid) (1.7.0+cu101)\n",
            "Requirement already satisfied: torchvision in /usr/local/lib/python3.6/dist-packages (from pytorch-fid) (0.8.1+cu101)\n",
            "Requirement already satisfied: dataclasses in /usr/local/lib/python3.6/dist-packages (from torch->pytorch-fid) (0.7)\n",
            "Requirement already satisfied: typing-extensions in /usr/local/lib/python3.6/dist-packages (from torch->pytorch-fid) (3.7.4.3)\n",
            "Requirement already satisfied: future in /usr/local/lib/python3.6/dist-packages (from torch->pytorch-fid) (0.16.0)\n",
            "Building wheels for collected packages: pytorch-fid\n",
            "  Building wheel for pytorch-fid (setup.py) ... \u001b[?25l\u001b[?25hdone\n",
            "  Created wheel for pytorch-fid: filename=pytorch_fid-0.1.1-cp36-none-any.whl size=10188 sha256=b959da4b1bebf4b9104720e28b63b053266986c6966f40d3ff6fa4cdda189bd2\n",
            "  Stored in directory: /root/.cache/pip/wheels/b8/93/92/a6a8add9047b97dcb2470d2d1642450e6b76b5988e9744e3f0\n",
            "Successfully built pytorch-fid\n",
            "Installing collected packages: pytorch-fid\n",
            "Successfully installed pytorch-fid-0.1.1\n"
          ],
          "name": "stdout"
        }
      ]
    },
    {
      "cell_type": "code",
      "metadata": {
        "id": "73FmbcjtzZaZ",
        "outputId": "a1f1f5c1-8a7e-4ae3-cff8-3dec7480cef2",
        "colab": {
          "base_uri": "https://localhost:8080/"
        }
      },
      "source": [
        "# FID: cycleGAN vs. watercolor cat images\n",
        "! python -m pytorch_fid  \"/content/drive/My Drive/CycleGan-Cats/CycleGAN-Tensorflow-2/output/cat2cartoon/samples_testing/A2B\" \"/content/drive/My Drive/FID/watercolor-cats\" --dims 192"
      ],
      "execution_count": null,
      "outputs": [
        {
          "output_type": "stream",
          "text": [
            "100% 5/5 [02:07<00:00, 25.41s/it]\n",
            "100% 4/4 [02:26<00:00, 36.52s/it]\n",
            "FID:  4.540094535953585\n"
          ],
          "name": "stdout"
        }
      ]
    },
    {
      "cell_type": "code",
      "metadata": {
        "id": "SKRwTlEqzi_E",
        "outputId": "33fb5abd-d16e-45ac-a836-08773ffcb34f",
        "colab": {
          "base_uri": "https://localhost:8080/"
        }
      },
      "source": [
        "# FID: cycleGAN vs. real cat images\n",
        "! python -m pytorch_fid  \"/content/drive/My Drive/CycleGan-Cats/CycleGAN-Tensorflow-2/output/cat2cartoon/samples_testing/A2B\" \"/content/drive/My Drive/FID/real-cats\" --dims 192"
      ],
      "execution_count": null,
      "outputs": [
        {
          "output_type": "stream",
          "text": [
            "100% 5/5 [00:17<00:00,  3.47s/it]\n",
            "100% 5/5 [02:29<00:00, 29.89s/it]\n",
            "FID:  18.973810736494723\n"
          ],
          "name": "stdout"
        }
      ]
    },
    {
      "cell_type": "code",
      "metadata": {
        "id": "lCJIpBnwb01n",
        "outputId": "0dd6090f-045d-4803-9b2c-5e2604dea046",
        "colab": {
          "base_uri": "https://localhost:8080/"
        }
      },
      "source": [
        "# FID: UNIT vs. watercolor cat image\n",
        "! python -m pytorch_fid  \"/content/drive/My Drive/FID/UNIT-results\" \"/content/drive/My Drive/FID/watercolor-cats\" --dims 192"
      ],
      "execution_count": null,
      "outputs": [
        {
          "output_type": "stream",
          "text": [
            "100% 5/5 [02:41<00:00, 32.22s/it]\n",
            "100% 4/4 [00:16<00:00,  4.19s/it]\n",
            "FID:  6.404032209645425\n"
          ],
          "name": "stdout"
        }
      ]
    },
    {
      "cell_type": "code",
      "metadata": {
        "id": "_6x0lyXSUMaV",
        "outputId": "feb7aad9-ba77-462d-d062-439611103418",
        "colab": {
          "base_uri": "https://localhost:8080/"
        }
      },
      "source": [
        "# FID: UNIT vs. real cat image\n",
        "! python -m pytorch_fid  \"/content/drive/My Drive/FID/UNIT-results\" \"/content/drive/My Drive/FID/real-cats\" --dims 192"
      ],
      "execution_count": null,
      "outputs": [
        {
          "output_type": "stream",
          "text": [
            "100% 5/5 [00:17<00:00,  3.42s/it]\n",
            "100% 5/5 [00:16<00:00,  3.35s/it]\n",
            "FID:  14.00173203202975\n"
          ],
          "name": "stdout"
        }
      ]
    },
    {
      "cell_type": "code",
      "metadata": {
        "id": "fR8tp9nFU9gq",
        "outputId": "8a059b2c-15df-4b4b-e260-60759b4a9f01",
        "colab": {
          "base_uri": "https://localhost:8080/"
        }
      },
      "source": [
        "# FID: styleGAN vs. watercolor cat image\n",
        "! python -m pytorch_fid  \"/content/drive/My Drive/FID/styleGAN-results\" \"/content/drive/My Drive/FID/watercolor-cats\" --dims 192"
      ],
      "execution_count": null,
      "outputs": [
        {
          "output_type": "stream",
          "text": [
            "100% 5/5 [02:29<00:00, 29.90s/it]\n",
            "100% 4/4 [00:16<00:00,  4.15s/it]\n",
            "FID:  8.791531668803607\n"
          ],
          "name": "stdout"
        }
      ]
    },
    {
      "cell_type": "code",
      "metadata": {
        "id": "AYaTxK7khIzT",
        "outputId": "6a178c73-8c07-41f6-a015-6fc0ca8cac7e",
        "colab": {
          "base_uri": "https://localhost:8080/"
        }
      },
      "source": [
        "# FID: styleGAN vs. real cat image\n",
        "! python -m pytorch_fid  \"/content/drive/My Drive/FID/styleGAN-results\" \"/content/drive/My Drive/FID/real-cats\" --dims 192"
      ],
      "execution_count": null,
      "outputs": [
        {
          "output_type": "stream",
          "text": [
            "100% 5/5 [00:18<00:00,  3.63s/it]\n",
            "100% 5/5 [00:16<00:00,  3.33s/it]\n",
            "FID:  2.5263036823243006\n"
          ],
          "name": "stdout"
        }
      ]
    },
    {
      "cell_type": "code",
      "metadata": {
        "id": "evSe1HEBv7_7",
        "outputId": "1822f7c6-86c7-4b24-a269-a23c2cb837b8",
        "colab": {
          "base_uri": "https://localhost:8080/"
        }
      },
      "source": [
        "# FID: Neural Transfer vs. watercolor cat image\n",
        "! python -m pytorch_fid  \"/content/drive/My Drive/FID/neural-results\" \"/content/drive/My Drive/FID/watercolor-cats\" --dims 192"
      ],
      "execution_count": null,
      "outputs": [
        {
          "output_type": "stream",
          "text": [
            "100% 5/5 [02:40<00:00, 32.03s/it]\n",
            "100% 4/4 [00:16<00:00,  4.15s/it]\n",
            "FID:  28.109796015379743\n"
          ],
          "name": "stdout"
        }
      ]
    },
    {
      "cell_type": "code",
      "metadata": {
        "id": "UHn_thMav7P8",
        "outputId": "87a15fc7-a66f-4720-e970-7d8c7dc2ff39",
        "colab": {
          "base_uri": "https://localhost:8080/"
        }
      },
      "source": [
        "# FID: Neural transfer vs. real cat image\n",
        "! python -m pytorch_fid  \"/content/drive/My Drive/FID/neural-results\" \"/content/drive/My Drive/FID/real-cats\" --dims 192"
      ],
      "execution_count": null,
      "outputs": [
        {
          "output_type": "stream",
          "text": [
            "100% 5/5 [00:17<00:00,  3.54s/it]\n",
            "100% 5/5 [00:16<00:00,  3.32s/it]\n",
            "FID:  61.05058385123322\n"
          ],
          "name": "stdout"
        }
      ]
    },
    {
      "cell_type": "code",
      "metadata": {
        "id": "UPlvLHNox4Yj"
      },
      "source": [
        ""
      ],
      "execution_count": null,
      "outputs": []
    }
  ]
}