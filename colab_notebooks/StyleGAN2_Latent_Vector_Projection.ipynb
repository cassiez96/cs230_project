{
  "nbformat": 4,
  "nbformat_minor": 0,
  "metadata": {
    "colab": {
      "name": "StyleGAN2 Latent Vector Projection.ipynb",
      "provenance": [],
      "collapsed_sections": [],
      "toc_visible": true,
      "machine_shape": "hm"
    },
    "kernelspec": {
      "name": "python3",
      "display_name": "Python 3"
    },
    "accelerator": "GPU"
  },
  "cells": [
    {
      "cell_type": "markdown",
      "metadata": {
        "id": "4_s8h-ilzHQc"
      },
      "source": [
        "# Latent vector projection\n",
        "\n",
        "Find the latent vector that will produce an output looks almost exactly like the real cat, and pass that latent vector to fine-tuned water cat model to generate watercolor cat iamges."
      ]
    },
    {
      "cell_type": "code",
      "metadata": {
        "id": "PzDuIoMcqfBT",
        "outputId": "b87a7f34-ae27-466f-e236-e58b64578fae",
        "colab": {
          "base_uri": "https://localhost:8080/"
        }
      },
      "source": [
        "%tensorflow_version 1.x"
      ],
      "execution_count": null,
      "outputs": [
        {
          "output_type": "stream",
          "text": [
            "TensorFlow 1.x selected.\n"
          ],
          "name": "stdout"
        }
      ]
    },
    {
      "cell_type": "code",
      "metadata": {
        "id": "cuMEHnpmI1Mj",
        "outputId": "4d294fce-26ff-435b-8681-45e3455c1c2e",
        "colab": {
          "base_uri": "https://localhost:8080/"
        }
      },
      "source": [
        "!git clone https://github.com/justinpinkney/stylegan2\n",
        "%cd stylegan2\n",
        "!nvcc test_nvcc.cu -o test_nvcc -run"
      ],
      "execution_count": null,
      "outputs": [
        {
          "output_type": "stream",
          "text": [
            "fatal: destination path 'stylegan2' already exists and is not an empty directory.\n",
            "/content/stylegan2\n",
            "CPU says hello.\n",
            "GPU says hello.\n"
          ],
          "name": "stdout"
        }
      ]
    },
    {
      "cell_type": "code",
      "metadata": {
        "id": "aEELIq-ViDwC",
        "outputId": "fd328af0-4b43-48d9-b3b1-ad84f035d31d",
        "colab": {
          "base_uri": "https://localhost:8080/"
        }
      },
      "source": [
        "from google.colab import drive\n",
        "drive.mount('/content/drive')"
      ],
      "execution_count": null,
      "outputs": [
        {
          "output_type": "stream",
          "text": [
            "Mounted at /content/drive\n"
          ],
          "name": "stdout"
        }
      ]
    },
    {
      "cell_type": "code",
      "metadata": {
        "id": "cwVXBFaSuoIU",
        "outputId": "8c321c3d-167b-4f90-dd22-b30e7dd97e31",
        "colab": {
          "base_uri": "https://localhost:8080/"
        }
      },
      "source": [
        "import pretrained_networks\n",
        "\n",
        "anime_cat_url = \"/content/drive/My Drive/CS 230/anime_cat.pkl\" \n",
        "blended_url = \"/content/drive/My Drive/CS 230/cat_blended.pkl\" \n",
        "blended_16_url = \"/content/drive/My Drive/CS 230/cat_blended_16.pkl\" \n",
        "real_cat_url = \"/content/drive/My Drive/CS 230/real_cat.pkl\" \n",
        "\n",
        "_, _, Gs_anime = pretrained_networks.load_networks(anime_cat_url)\n",
        "_, _, Gs_blended = pretrained_networks.load_networks(blended_url)\n",
        "_, _, Gs_blended_16 = pretrained_networks.load_networks(blended_16_url)\n",
        "_, _, Gs = pretrained_networks.load_networks(real_cat_url)"
      ],
      "execution_count": null,
      "outputs": [
        {
          "output_type": "stream",
          "text": [
            "Setting up TensorFlow plugin \"fused_bias_act.cu\": Preprocessing... Compiling... Loading... Done.\n",
            "Setting up TensorFlow plugin \"upfirdn_2d.cu\": Preprocessing... Compiling... Loading... Done.\n"
          ],
          "name": "stdout"
        }
      ]
    },
    {
      "cell_type": "code",
      "metadata": {
        "id": "ldHXNMYhnYC5",
        "outputId": "79777a82-9991-43ee-8853-740e51f91290",
        "colab": {
          "base_uri": "https://localhost:8080/"
        }
      },
      "source": [
        "!python project_images.py --network-pkl /content/drive/My\\ Drive/CS\\ 230/real_cat.pkl  --num-steps 500 raw generated"
      ],
      "execution_count": null,
      "outputs": [
        {
          "output_type": "stream",
          "text": [
            "Loading networks from \"/content/drive/My Drive/CS 230/real_cat.pkl\"...\n",
            "Setting up TensorFlow plugin \"fused_bias_act.cu\": Preprocessing... Loading... Done.\n",
            "Setting up TensorFlow plugin \"upfirdn_2d.cu\": Preprocessing... Loading... Done.\n",
            "Loading images from \".stylegan2-tmp/dataset/images\"\n",
            "detected 1 images ...\n",
            "Creating dataset \".stylegan2-tmp/dataset/tfrecords\"\n",
            "Adding the images to tfrecords ...\n",
            "added images 0\n",
            "Added 1 images.\n",
            "Projecting image \"00001247_023.jpg\"...\n",
            "0 / 500 ... 2020-11-03 01:07:29.901972: W tensorflow/core/common_runtime/bfc_allocator.cc:305] Garbage collection: deallocate free memory regions (i.e., allocations) so that we can re-allocate a larger region to avoid OOM due to memory fragmentation. If you see this message frequently, you are running near the threshold of the available device memory and re-allocation may incur great performance overhead. You may try smaller batch sizes to observe the performance impact. Set TF_ENABLE_GPU_GARBAGE_COLLECTION=false if you'd like to disable this feature.\n",
            "Loading images from \".stylegan2-tmp/dataset/images\"\n",
            "detected 1 images ...\n",
            "Creating dataset \".stylegan2-tmp/dataset/tfrecords\"\n",
            "Adding the images to tfrecords ...\n",
            "added images 0\n",
            "Added 1 images.\n",
            "Projecting image \"00001251_010.jpg\"...\n",
            "Loading images from \".stylegan2-tmp/dataset/images\"\n",
            "detected 1 images ...\n",
            "Creating dataset \".stylegan2-tmp/dataset/tfrecords\"\n",
            "Adding the images to tfrecords ...\n",
            "added images 0\n",
            "Added 1 images.\n",
            "Projecting image \"00001253_021.jpg\"...\n",
            "Loading images from \".stylegan2-tmp/dataset/images\"\n",
            "detected 1 images ...\n",
            "Creating dataset \".stylegan2-tmp/dataset/tfrecords\"\n",
            "Adding the images to tfrecords ...\n",
            "added images 0\n",
            "Added 1 images.\n",
            "Projecting image \"00001274_011.jpg\"...\n",
            "Loading images from \".stylegan2-tmp/dataset/images\"\n",
            "detected 1 images ...\n",
            "Creating dataset \".stylegan2-tmp/dataset/tfrecords\"\n",
            "Adding the images to tfrecords ...\n",
            "added images 0\n",
            "Added 1 images.\n",
            "Projecting image \"00001283_000.jpg\"...\n",
            "Loading images from \".stylegan2-tmp/dataset/images\"\n",
            "detected 1 images ...\n",
            "Creating dataset \".stylegan2-tmp/dataset/tfrecords\"\n",
            "Adding the images to tfrecords ...\n",
            "added images 0\n",
            "Added 1 images.\n",
            "Projecting image \"00001284_020.jpg\"...\n",
            "Loading images from \".stylegan2-tmp/dataset/images\"\n",
            "detected 1 images ...\n",
            "Creating dataset \".stylegan2-tmp/dataset/tfrecords\"\n",
            "Adding the images to tfrecords ...\n",
            "added images 0\n",
            "Added 1 images.\n",
            "Projecting image \"00001293_006.jpg\"...\n",
            "Loading images from \".stylegan2-tmp/dataset/images\"\n",
            "detected 1 images ...\n",
            "Creating dataset \".stylegan2-tmp/dataset/tfrecords\"\n",
            "Adding the images to tfrecords ...\n",
            "added images 0\n",
            "Added 1 images.\n",
            "Projecting image \"00001294_018.jpg\"...\n",
            "Loading images from \".stylegan2-tmp/dataset/images\"\n",
            "detected 1 images ...\n",
            "Creating dataset \".stylegan2-tmp/dataset/tfrecords\"\n",
            "Adding the images to tfrecords ...\n",
            "added images 0\n",
            "Added 1 images.\n",
            "Projecting image \"00001294_029.jpg\"...\n",
            "Loading images from \".stylegan2-tmp/dataset/images\"\n",
            "detected 1 images ...\n",
            "Creating dataset \".stylegan2-tmp/dataset/tfrecords\"\n",
            "Adding the images to tfrecords ...\n",
            "added images 0\n",
            "Added 1 images.\n",
            "Projecting image \"00001295_025.jpg\"...\n",
            "Loading images from \".stylegan2-tmp/dataset/images\"\n",
            "detected 1 images ...\n",
            "Creating dataset \".stylegan2-tmp/dataset/tfrecords\"\n",
            "Adding the images to tfrecords ...\n",
            "added images 0\n",
            "Added 1 images.\n",
            "Projecting image \"00001312_020.jpg\"...\n",
            "Loading images from \".stylegan2-tmp/dataset/images\"\n",
            "detected 1 images ...\n",
            "Creating dataset \".stylegan2-tmp/dataset/tfrecords\"\n",
            "Adding the images to tfrecords ...\n",
            "added images 0\n",
            "Added 1 images.\n",
            "Projecting image \"00001317_008.jpg\"...\n",
            "Loading images from \".stylegan2-tmp/dataset/images\"\n",
            "detected 1 images ...\n",
            "Creating dataset \".stylegan2-tmp/dataset/tfrecords\"\n",
            "Adding the images to tfrecords ...\n",
            "added images 0\n",
            "Added 1 images.\n",
            "Projecting image \"00001415_027.jpg\"...\n",
            "Loading images from \".stylegan2-tmp/dataset/images\"\n",
            "detected 1 images ...\n",
            "Creating dataset \".stylegan2-tmp/dataset/tfrecords\"\n",
            "Adding the images to tfrecords ...\n",
            "added images 0\n",
            "Added 1 images.\n",
            "Projecting image \"00001418_007.jpg\"...\n",
            "Loading images from \".stylegan2-tmp/dataset/images\"\n",
            "detected 1 images ...\n",
            "Creating dataset \".stylegan2-tmp/dataset/tfrecords\"\n",
            "Adding the images to tfrecords ...\n",
            "added images 0\n",
            "Added 1 images.\n",
            "Projecting image \"00001425_029.jpg\"...\n",
            "Loading images from \".stylegan2-tmp/dataset/images\"\n",
            "detected 1 images ...\n",
            "Creating dataset \".stylegan2-tmp/dataset/tfrecords\"\n",
            "Adding the images to tfrecords ...\n",
            "added images 0\n",
            "Added 1 images.\n",
            "Projecting image \"00001431_001.jpg\"...\n",
            "Loading images from \".stylegan2-tmp/dataset/images\"\n",
            "detected 1 images ...\n",
            "Creating dataset \".stylegan2-tmp/dataset/tfrecords\"\n",
            "Adding the images to tfrecords ...\n",
            "added images 0\n",
            "Added 1 images.\n",
            "Projecting image \"00001431_015.jpg\"...\n",
            "Loading images from \".stylegan2-tmp/dataset/images\"\n",
            "detected 1 images ...\n",
            "Creating dataset \".stylegan2-tmp/dataset/tfrecords\"\n",
            "Adding the images to tfrecords ...\n",
            "added images 0\n",
            "Added 1 images.\n",
            "Projecting image \"00001431_025.jpg\"...\n",
            "Loading images from \".stylegan2-tmp/dataset/images\"\n",
            "detected 1 images ...\n",
            "Creating dataset \".stylegan2-tmp/dataset/tfrecords\"\n",
            "Adding the images to tfrecords ...\n",
            "added images 0\n",
            "Added 1 images.\n",
            "Projecting image \"00001432_013.jpg\"...\n",
            "Loading images from \".stylegan2-tmp/dataset/images\"\n",
            "detected 1 images ...\n",
            "Creating dataset \".stylegan2-tmp/dataset/tfrecords\"\n",
            "Adding the images to tfrecords ...\n",
            "added images 0\n",
            "Added 1 images.\n",
            "Projecting image \"00001433_010.jpg\"...\n",
            "Loading images from \".stylegan2-tmp/dataset/images\"\n",
            "detected 1 images ...\n",
            "Creating dataset \".stylegan2-tmp/dataset/tfrecords\"\n",
            "Adding the images to tfrecords ...\n",
            "added images 0\n",
            "Added 1 images.\n",
            "Projecting image \"00001434_013.jpg\"...\n",
            "Loading images from \".stylegan2-tmp/dataset/images\"\n",
            "detected 1 images ...\n",
            "Creating dataset \".stylegan2-tmp/dataset/tfrecords\"\n",
            "Adding the images to tfrecords ...\n",
            "added images 0\n",
            "Added 1 images.\n",
            "Projecting image \"00001436_017.jpg\"...\n",
            "Loading images from \".stylegan2-tmp/dataset/images\"\n",
            "detected 1 images ...\n",
            "Creating dataset \".stylegan2-tmp/dataset/tfrecords\"\n",
            "Adding the images to tfrecords ...\n",
            "added images 0\n",
            "Added 1 images.\n",
            "Projecting image \"00001440_004.jpg\"...\n",
            "Loading images from \".stylegan2-tmp/dataset/images\"\n",
            "detected 1 images ...\n",
            "Creating dataset \".stylegan2-tmp/dataset/tfrecords\"\n",
            "Adding the images to tfrecords ...\n",
            "added images 0\n",
            "Added 1 images.\n",
            "Projecting image \"00001443_005.jpg\"...\n",
            "Loading images from \".stylegan2-tmp/dataset/images\"\n",
            "detected 1 images ...\n",
            "Creating dataset \".stylegan2-tmp/dataset/tfrecords\"\n",
            "Adding the images to tfrecords ...\n",
            "added images 0\n",
            "Added 1 images.\n",
            "Projecting image \"00001443_027.jpg\"...\n",
            "Loading images from \".stylegan2-tmp/dataset/images\"\n",
            "detected 1 images ...\n",
            "Creating dataset \".stylegan2-tmp/dataset/tfrecords\"\n",
            "Adding the images to tfrecords ...\n",
            "added images 0\n",
            "Added 1 images.\n",
            "Projecting image \"00001454_006.jpg\"...\n",
            "Loading images from \".stylegan2-tmp/dataset/images\"\n",
            "detected 1 images ...\n",
            "Creating dataset \".stylegan2-tmp/dataset/tfrecords\"\n",
            "Adding the images to tfrecords ...\n",
            "added images 0\n",
            "Added 1 images.\n",
            "Projecting image \"00001454_007.jpg\"...\n",
            "Loading images from \".stylegan2-tmp/dataset/images\"\n",
            "detected 1 images ...\n",
            "Creating dataset \".stylegan2-tmp/dataset/tfrecords\"\n",
            "Adding the images to tfrecords ...\n",
            "added images 0\n",
            "Added 1 images.\n",
            "Projecting image \"00001460_015.jpg\"...\n",
            "Loading images from \".stylegan2-tmp/dataset/images\"\n",
            "detected 1 images ...\n",
            "Creating dataset \".stylegan2-tmp/dataset/tfrecords\"\n",
            "Adding the images to tfrecords ...\n",
            "added images 0\n",
            "Added 1 images.\n",
            "Projecting image \"00001464_013.jpg\"...\n",
            "Loading images from \".stylegan2-tmp/dataset/images\"\n",
            "detected 1 images ...\n",
            "Creating dataset \".stylegan2-tmp/dataset/tfrecords\"\n",
            "Adding the images to tfrecords ...\n",
            "added images 0\n",
            "Added 1 images.\n",
            "Projecting image \"00001468_013.jpg\"...\n",
            "113 / 500 ... Traceback (most recent call last):\n",
            "  File \"project_images.py\", line 122, in <module>\n",
            "    main()\n",
            "  File \"project_images.py\", line 112, in main\n",
            "    project_image(proj, src_file, args.dst_dir, args.tmp_dir, video=args.video)\n",
            "  File \"project_images.py\", line 41, in project_image\n",
            "    proj.step()\n",
            "  File \"/content/stylegan2/projector.py\", line 192, in step\n",
            "    _, dist_value, loss_value = tflib.run([self._opt_step, self._dist, self._loss], feed_dict)\n",
            "  File \"/content/stylegan2/dnnlib/tflib/tfutil.py\", line 31, in run\n",
            "    return tf.get_default_session().run(*args, **kwargs)\n",
            "  File \"/tensorflow-1.15.2/python3.6/tensorflow_core/python/client/session.py\", line 956, in run\n",
            "    run_metadata_ptr)\n",
            "  File \"/tensorflow-1.15.2/python3.6/tensorflow_core/python/client/session.py\", line 1180, in _run\n",
            "    feed_dict_tensor, options, run_metadata)\n",
            "  File \"/tensorflow-1.15.2/python3.6/tensorflow_core/python/client/session.py\", line 1359, in _do_run\n",
            "    run_metadata)\n",
            "  File \"/tensorflow-1.15.2/python3.6/tensorflow_core/python/client/session.py\", line 1365, in _do_call\n",
            "    return fn(*args)\n",
            "  File \"/tensorflow-1.15.2/python3.6/tensorflow_core/python/client/session.py\", line 1350, in _run_fn\n",
            "    target_list, run_metadata)\n",
            "  File \"/tensorflow-1.15.2/python3.6/tensorflow_core/python/client/session.py\", line 1443, in _call_tf_sessionrun\n",
            "    run_metadata)\n",
            "KeyboardInterrupt\n"
          ],
          "name": "stdout"
        }
      ]
    },
    {
      "cell_type": "code",
      "metadata": {
        "id": "EHQgAO2yqaew"
      },
      "source": [
        "import numpy as np\n",
        "from PIL import Image\n",
        "import dnnlib\n",
        "import dnnlib.tflib as tflib\n",
        "from pathlib import Path\n",
        "\n",
        "latent_dir = Path(\"/content/drive/My Drive/CS 230/test_generated\")\n",
        "save_dir = Path(\"/content/drive/My Drive/CS 230/test_output\")\n",
        "latents = latent_dir.glob(\"*.npy\")\n",
        "for latent_file in latents:\n",
        "  latent = np.load(latent_file)\n",
        "  latent = np.expand_dims(latent,axis=0)\n",
        "  synthesis_kwargs = dict(output_transform=dict(func=tflib.convert_images_to_uint8, nchw_to_nhwc=False), minibatch_size=8)\n",
        "  images = Gs_blended_16.components.synthesis.run(latent, randomize_noise=False, **synthesis_kwargs)\n",
        "  Image.fromarray(images.transpose((0,2,3,1))[0], 'RGB').save(save_dir / (f\"{latent_file.stem}-blended16.jpg\"))\n"
      ],
      "execution_count": null,
      "outputs": []
    },
    {
      "cell_type": "code",
      "metadata": {
        "id": "tcWXgS5DXata",
        "outputId": "ac123758-3feb-489c-da1f-e50430ea3ef0",
        "colab": {
          "base_uri": "https://localhost:8080/",
          "height": 785
        }
      },
      "source": [
        "from IPython.display import Image \n",
        "embedded = Image(filename=\"/content/drive/My Drive/CS 230/test_raw/00001247_023.jpg\", width=256)\n",
        "display(embedded)\n",
        "tooned = Image(filename=\"/content/drive/My Drive/CS 230/test_output/00001247_023-blended.jpg\", width=256)\n",
        "display(tooned)\n",
        "tooned = Image(filename=\"/content/drive/My Drive/CS 230/test_output/00001247_023-blended16.jpg\", width=256)\n",
        "display(tooned)"
      ],
      "execution_count": null,
      "outputs": [
        {
          "output_type": "display_data",
          "data": {
            "image/jpeg": "[encoded data removed]",
            "text/plain": [
              "<IPython.core.display.Image object>"
            ]
          },
          "metadata": {
            "tags": [],
            "image/jpeg": {
              "width": 256
            }
          }
        },
        {
          "output_type": "display_data",
          "data": {
            "image/jpeg": "[encoded data removed]",
            "text/plain": [
              "<IPython.core.display.Image object>"
            ]
          },
          "metadata": {
            "tags": [],
            "image/jpeg": {
              "width": 256
            }
          }
        },
        {
          "output_type": "display_data",
          "data": {
            "image/jpeg": "[encoded data removed]",
            "text/plain": [
              "<IPython.core.display.Image object>"
            ]
          },
          "metadata": {
            "tags": [],
            "image/jpeg": {
              "width": 256
            }
          }
        }
      ]
    },
    {
      "cell_type": "code",
      "metadata": {
        "id": "yYPXfOsZpHAR"
      },
      "source": [
        ""
      ],
      "execution_count": null,
      "outputs": []
    },
    {
      "cell_type": "code",
      "metadata": {
        "id": "tTLKK1fph4G-"
      },
      "source": [
        ""
      ],
      "execution_count": null,
      "outputs": []
    }
  ]
}